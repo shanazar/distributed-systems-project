{
 "cells": [
  {
   "cell_type": "markdown",
   "id": "e6ef062ee047f7cf",
   "metadata": {},
   "source": [
    "# Dataframes parallel benchmarking using Jupyter\n",
    "### Kristjan Lõhmus"
   ]
  },
  {
   "cell_type": "code",
   "execution_count": 1,
   "id": "7f86ae15b5b71d15",
   "metadata": {
    "ExecuteTime": {
     "end_time": "2024-11-05T17:43:26.063294Z",
     "start_time": "2024-11-05T17:43:26.055626Z"
    }
   },
   "outputs": [],
   "source": [
    "import time\n",
    "results = []"
   ]
  },
  {
   "cell_type": "markdown",
   "id": "4abe9cda-e474-4053-80ac-51b1afc617a9",
   "metadata": {},
   "source": [
    "## Dask"
   ]
  },
  {
   "cell_type": "code",
   "execution_count": 2,
   "id": "5dd8be84-151d-4102-a724-c3c7ce1464ec",
   "metadata": {},
   "outputs": [],
   "source": [
    "import dask_queries"
   ]
  },
  {
   "cell_type": "markdown",
   "id": "d4262db8-c3a0-49b6-accd-35a8dd54a11c",
   "metadata": {},
   "source": [
    "### Scale 1"
   ]
  },
  {
   "cell_type": "code",
   "execution_count": 3,
   "id": "8cb95a5d-668c-4703-b8d2-558585e41af8",
   "metadata": {},
   "outputs": [],
   "source": [
    "#factor 1\n",
    "factor = 1\n",
    "data_path=f'./data/scale_factor_{factor}'\n",
    "dask_results_dict = {'library': 'dask', 'scale': factor}"
   ]
  },
  {
   "cell_type": "code",
   "execution_count": 4,
   "id": "273c4f9a-43bb-4604-8b4c-7f0e2a8184ba",
   "metadata": {},
   "outputs": [],
   "source": [
    "# query 1\n",
    "start_time = time.time()\n",
    "dask_queries.query_01(data_path, factor)\n",
    "end_time = time.time()\n",
    "dask_results_dict['query_01'] = end_time - start_time"
   ]
  },
  {
   "cell_type": "code",
   "execution_count": 5,
   "id": "4706a5e9-da9e-4060-853a-467869175143",
   "metadata": {},
   "outputs": [],
   "source": [
    "# query 2\n",
    "start_time = time.time()\n",
    "dask_queries.query_02(data_path, factor)\n",
    "end_time = time.time()\n",
    "dask_results_dict['query_02'] = end_time - start_time"
   ]
  },
  {
   "cell_type": "code",
   "execution_count": 6,
   "id": "cd10cbff-c984-4222-8851-38d7ac86ebab",
   "metadata": {},
   "outputs": [],
   "source": [
    "# query 3\n",
    "start_time = time.time()\n",
    "dask_queries.query_03(data_path, factor)\n",
    "end_time = time.time()\n",
    "dask_results_dict['query_03'] = end_time - start_time"
   ]
  },
  {
   "cell_type": "code",
   "execution_count": 7,
   "id": "e3d695cf-2121-436c-bf21-07ac4d1eba33",
   "metadata": {},
   "outputs": [],
   "source": [
    "# query 4\n",
    "start_time = time.time()\n",
    "dask_queries.query_04(data_path, factor)\n",
    "end_time = time.time()\n",
    "dask_results_dict['query_04'] = end_time - start_time"
   ]
  },
  {
   "cell_type": "code",
   "execution_count": 8,
   "id": "12f5f04e-60bc-4865-8b2f-c7dd347baf0d",
   "metadata": {},
   "outputs": [],
   "source": [
    "# query 5\n",
    "start_time = time.time()\n",
    "dask_queries.query_05(data_path, factor)\n",
    "end_time = time.time()\n",
    "dask_results_dict['query_05'] = end_time - start_time"
   ]
  },
  {
   "cell_type": "code",
   "execution_count": 9,
   "id": "bd1d59e4-0881-4e99-bbc6-3cd1aaae9ab3",
   "metadata": {},
   "outputs": [],
   "source": [
    "# query 6\n",
    "start_time = time.time()\n",
    "dask_queries.query_06(data_path, factor)\n",
    "end_time = time.time()\n",
    "dask_results_dict['query_06'] = end_time - start_time"
   ]
  },
  {
   "cell_type": "code",
   "execution_count": 10,
   "id": "5256063f-6dd2-43df-a928-721707599749",
   "metadata": {},
   "outputs": [],
   "source": [
    "# query 7\n",
    "start_time = time.time()\n",
    "dask_queries.query_07(data_path, factor)\n",
    "end_time = time.time()\n",
    "dask_results_dict['query_07'] = end_time - start_time"
   ]
  },
  {
   "cell_type": "code",
   "execution_count": 11,
   "id": "8503e90a-9d54-422e-b633-afe2bd13373c",
   "metadata": {},
   "outputs": [],
   "source": [
    "# query 8\n",
    "start_time = time.time()\n",
    "dask_queries.query_08(data_path, factor)\n",
    "end_time = time.time()\n",
    "dask_results_dict['query_08'] = end_time - start_time"
   ]
  },
  {
   "cell_type": "code",
   "execution_count": 12,
   "id": "95812a39-971b-4870-aeab-820a82ea6e03",
   "metadata": {},
   "outputs": [],
   "source": [
    "# query 9\n",
    "start_time = time.time()\n",
    "dask_queries.query_09(data_path, factor)\n",
    "end_time = time.time()\n",
    "dask_results_dict['query_09'] = end_time - start_time"
   ]
  },
  {
   "cell_type": "code",
   "execution_count": 13,
   "id": "0ea39d0c-cb55-452c-aae6-b24a5c0ff71b",
   "metadata": {},
   "outputs": [],
   "source": [
    "# query 10\n",
    "start_time = time.time()\n",
    "dask_queries.query_10(data_path, factor)\n",
    "end_time = time.time()\n",
    "dask_results_dict['query_10'] = end_time - start_time"
   ]
  },
  {
   "cell_type": "code",
   "execution_count": 14,
   "id": "c3b67e85-7e0f-4389-8f69-e86b77ef68eb",
   "metadata": {},
   "outputs": [],
   "source": [
    "# query 11\n",
    "start_time = time.time()\n",
    "dask_queries.query_11(data_path, factor)\n",
    "end_time = time.time()\n",
    "dask_results_dict['query_11'] = end_time - start_time"
   ]
  },
  {
   "cell_type": "code",
   "execution_count": 15,
   "id": "c69321d7-25f2-42fb-889d-544374644312",
   "metadata": {},
   "outputs": [],
   "source": [
    "# query 12\n",
    "start_time = time.time()\n",
    "dask_queries.query_12(data_path, factor)\n",
    "end_time = time.time()\n",
    "dask_results_dict['query_12'] = end_time - start_time"
   ]
  },
  {
   "cell_type": "code",
   "execution_count": 16,
   "id": "3a7f1ddd-a2fa-47f9-b0cf-dd478d452180",
   "metadata": {},
   "outputs": [],
   "source": [
    "# query 13\n",
    "start_time = time.time()\n",
    "dask_queries.query_13(data_path, factor)\n",
    "end_time = time.time()\n",
    "dask_results_dict['query_13'] = end_time - start_time"
   ]
  },
  {
   "cell_type": "code",
   "execution_count": 17,
   "id": "727661e3-37b3-42e4-b257-44baf1a2ca1a",
   "metadata": {},
   "outputs": [],
   "source": [
    "# query 14\n",
    "start_time = time.time()\n",
    "dask_queries.query_14(data_path, factor)\n",
    "end_time = time.time()\n",
    "dask_results_dict['query_14'] = end_time - start_time"
   ]
  },
  {
   "cell_type": "code",
   "execution_count": 18,
   "id": "5d5befa2-5684-4bbc-8886-280247912134",
   "metadata": {},
   "outputs": [],
   "source": [
    "# query 15\n",
    "start_time = time.time()\n",
    "dask_queries.query_15(data_path, factor)\n",
    "end_time = time.time()\n",
    "dask_results_dict['query_15'] = end_time - start_time"
   ]
  },
  {
   "cell_type": "code",
   "execution_count": 19,
   "id": "06870d52-0c6e-48e7-a783-a39db0196b49",
   "metadata": {},
   "outputs": [],
   "source": [
    "# query 16\n",
    "start_time = time.time()\n",
    "dask_queries.query_16(data_path, factor)\n",
    "end_time = time.time()\n",
    "dask_results_dict['query_16'] = end_time - start_time"
   ]
  },
  {
   "cell_type": "code",
   "execution_count": 20,
   "id": "9d420b61-145e-4b0a-85a2-7f4b859d7fdd",
   "metadata": {},
   "outputs": [],
   "source": [
    "# query 17\n",
    "start_time = time.time()\n",
    "dask_queries.query_17(data_path, factor)\n",
    "end_time = time.time()\n",
    "dask_results_dict['query_17'] = end_time - start_time"
   ]
  },
  {
   "cell_type": "code",
   "execution_count": 21,
   "id": "14148266-2e6d-4fbe-a8dd-dffbcd54d653",
   "metadata": {},
   "outputs": [],
   "source": [
    "# query 18\n",
    "start_time = time.time()\n",
    "dask_queries.query_18(data_path, factor)\n",
    "end_time = time.time()\n",
    "dask_results_dict['query_18'] = end_time - start_time"
   ]
  },
  {
   "cell_type": "code",
   "execution_count": 22,
   "id": "14c33370-1b6c-41af-aaf1-3b4e77630808",
   "metadata": {},
   "outputs": [],
   "source": [
    "# query 19\n",
    "start_time = time.time()\n",
    "dask_queries.query_19(data_path, factor)\n",
    "end_time = time.time()\n",
    "dask_results_dict['query_19'] = end_time - start_time"
   ]
  },
  {
   "cell_type": "code",
   "execution_count": 23,
   "id": "1cadbd91-8134-4db9-b15e-f21579479f7f",
   "metadata": {},
   "outputs": [],
   "source": [
    "# query 20\n",
    "start_time = time.time()\n",
    "dask_queries.query_20(data_path, factor)\n",
    "end_time = time.time()\n",
    "dask_results_dict['query_20'] = end_time - start_time"
   ]
  },
  {
   "cell_type": "code",
   "execution_count": 24,
   "id": "fdc37ae6-f8a1-4040-a3f9-444d6bd311a4",
   "metadata": {},
   "outputs": [],
   "source": [
    "# query 21\n",
    "start_time = time.time()\n",
    "dask_queries.query_21(data_path, factor)\n",
    "end_time = time.time()\n",
    "dask_results_dict['query_21'] = end_time - start_time"
   ]
  },
  {
   "cell_type": "code",
   "execution_count": 25,
   "id": "633e32f4-5bc4-45b2-bf0b-75f23f3b3c43",
   "metadata": {},
   "outputs": [],
   "source": [
    "# query 22\n",
    "start_time = time.time()\n",
    "dask_queries.query_22(data_path, factor)\n",
    "end_time = time.time()\n",
    "dask_results_dict['query_22'] = end_time - start_time"
   ]
  },
  {
   "cell_type": "code",
   "execution_count": 26,
   "id": "68bf8890-0869-45f1-adda-37f7e2b9b774",
   "metadata": {},
   "outputs": [],
   "source": [
    "results.append(dask_results_dict)"
   ]
  },
  {
   "cell_type": "markdown",
   "id": "60819e52-63ae-4719-8128-157b954a6b9a",
   "metadata": {},
   "source": [
    "## Polars"
   ]
  },
  {
   "cell_type": "code",
   "execution_count": 27,
   "id": "da98399c-148e-457a-84b8-2d39b53a51c7",
   "metadata": {},
   "outputs": [],
   "source": [
    "import polars_queries"
   ]
  },
  {
   "cell_type": "markdown",
   "id": "53275c84-dc0c-4837-be75-b6a1bc92c80b",
   "metadata": {},
   "source": [
    "### Scale 1"
   ]
  },
  {
   "cell_type": "code",
   "execution_count": 28,
   "id": "c8a663b8-62c4-494d-8d2e-900213439593",
   "metadata": {},
   "outputs": [],
   "source": [
    "#factor 1\n",
    "factor = 1\n",
    "data_path=f'./data/scale_factor_{factor}'\n",
    "polars_results_dict = {'library': 'polars', 'scale': factor}"
   ]
  },
  {
   "cell_type": "code",
   "execution_count": 29,
   "id": "20937c4b-6ef5-4b39-a198-13e0881f8af6",
   "metadata": {},
   "outputs": [],
   "source": [
    "# query 1\n",
    "start_time = time.time()\n",
    "polars_queries.query_01(data_path, factor)\n",
    "end_time = time.time()\n",
    "polars_results_dict['query_01'] = end_time - start_time"
   ]
  },
  {
   "cell_type": "code",
   "execution_count": 30,
   "id": "99fa3cc5-f473-4ef4-8e4d-8beefaf96a75",
   "metadata": {},
   "outputs": [],
   "source": [
    "# query 2\n",
    "start_time = time.time()\n",
    "polars_queries.query_02(data_path, factor)\n",
    "end_time = time.time()\n",
    "polars_results_dict['query_02'] = end_time - start_time"
   ]
  },
  {
   "cell_type": "code",
   "execution_count": 31,
   "id": "e3e8519b-c733-4f39-a11c-eba5d6192365",
   "metadata": {},
   "outputs": [],
   "source": [
    "# query 3\n",
    "start_time = time.time()\n",
    "polars_queries.query_03(data_path, factor)\n",
    "end_time = time.time()\n",
    "polars_results_dict['query_03'] = end_time - start_time"
   ]
  },
  {
   "cell_type": "code",
   "execution_count": 32,
   "id": "79bf1674-a190-489f-9ba1-146ab0a02242",
   "metadata": {},
   "outputs": [],
   "source": [
    "# query 4\n",
    "start_time = time.time()\n",
    "polars_queries.query_04(data_path, factor)\n",
    "end_time = time.time()\n",
    "polars_results_dict['query_04'] = end_time - start_time"
   ]
  },
  {
   "cell_type": "code",
   "execution_count": 33,
   "id": "3077e721-9dc4-4017-8c15-10204476ea3c",
   "metadata": {},
   "outputs": [],
   "source": [
    "# query 5\n",
    "start_time = time.time()\n",
    "polars_queries.query_05(data_path, factor)\n",
    "end_time = time.time()\n",
    "polars_results_dict['query_05'] = end_time - start_time"
   ]
  },
  {
   "cell_type": "code",
   "execution_count": 34,
   "id": "615acac1-8762-43de-944f-704b9c33668c",
   "metadata": {},
   "outputs": [],
   "source": [
    "# query 6\n",
    "start_time = time.time()\n",
    "polars_queries.query_06(data_path, factor)\n",
    "end_time = time.time()\n",
    "polars_results_dict['query_06'] = end_time - start_time"
   ]
  },
  {
   "cell_type": "code",
   "execution_count": 35,
   "id": "5182bb9f-4f27-4369-a925-33c373c9b890",
   "metadata": {},
   "outputs": [],
   "source": [
    "# query 7\n",
    "start_time = time.time()\n",
    "polars_queries.query_07(data_path, factor)\n",
    "end_time = time.time()\n",
    "polars_results_dict['query_07'] = end_time - start_time"
   ]
  },
  {
   "cell_type": "code",
   "execution_count": 36,
   "id": "8ecbec36-f970-422f-89cd-8b4e947ed888",
   "metadata": {},
   "outputs": [],
   "source": [
    "# query 8\n",
    "start_time = time.time()\n",
    "polars_queries.query_08(data_path, factor)\n",
    "end_time = time.time()\n",
    "polars_results_dict['query_08'] = end_time - start_time"
   ]
  },
  {
   "cell_type": "code",
   "execution_count": 37,
   "id": "8f2e7c36-0e7d-436f-9b33-4ccf032d7adc",
   "metadata": {},
   "outputs": [],
   "source": [
    "# query 9\n",
    "start_time = time.time()\n",
    "polars_queries.query_09(data_path, factor)\n",
    "end_time = time.time()\n",
    "polars_results_dict['query_09'] = end_time - start_time"
   ]
  },
  {
   "cell_type": "code",
   "execution_count": 38,
   "id": "7bc227c4-1a67-4932-85ea-8804330a1ecb",
   "metadata": {},
   "outputs": [],
   "source": [
    "# query 10\n",
    "start_time = time.time()\n",
    "polars_queries.query_10(data_path, factor)\n",
    "end_time = time.time()\n",
    "polars_results_dict['query_10'] = end_time - start_time"
   ]
  },
  {
   "cell_type": "code",
   "execution_count": 39,
   "id": "7dcab59c-88f0-4c59-888f-88f80179f4be",
   "metadata": {},
   "outputs": [],
   "source": [
    "# query 11\n",
    "start_time = time.time()\n",
    "polars_queries.query_11(data_path, factor)\n",
    "end_time = time.time()\n",
    "polars_results_dict['query_11'] = end_time - start_time"
   ]
  },
  {
   "cell_type": "code",
   "execution_count": 40,
   "id": "46c28001-ab13-4f73-9775-3780f708e3e9",
   "metadata": {},
   "outputs": [],
   "source": [
    "# query 12\n",
    "start_time = time.time()\n",
    "polars_queries.query_12(data_path, factor)\n",
    "end_time = time.time()\n",
    "polars_results_dict['query_12'] = end_time - start_time"
   ]
  },
  {
   "cell_type": "code",
   "execution_count": 41,
   "id": "38ba2b15-911f-43d1-8c76-191b95d3441d",
   "metadata": {},
   "outputs": [],
   "source": [
    "# query 13\n",
    "start_time = time.time()\n",
    "polars_queries.query_13(data_path, factor)\n",
    "end_time = time.time()\n",
    "polars_results_dict['query_13'] = end_time - start_time"
   ]
  },
  {
   "cell_type": "code",
   "execution_count": 42,
   "id": "e59cb5fe-8337-48e3-a2a1-02d154625edc",
   "metadata": {},
   "outputs": [],
   "source": [
    "# query 14\n",
    "start_time = time.time()\n",
    "polars_queries.query_14(data_path, factor)\n",
    "end_time = time.time()\n",
    "polars_results_dict['query_14'] = end_time - start_time"
   ]
  },
  {
   "cell_type": "code",
   "execution_count": 43,
   "id": "073de75f-deea-42a9-afcf-536354e93429",
   "metadata": {},
   "outputs": [],
   "source": [
    "# query 15\n",
    "start_time = time.time()\n",
    "polars_queries.query_15(data_path, factor)\n",
    "end_time = time.time()\n",
    "polars_results_dict['query_15'] = end_time - start_time"
   ]
  },
  {
   "cell_type": "code",
   "execution_count": 44,
   "id": "e1c663d5-488a-4ca2-845a-227a9363a2a6",
   "metadata": {},
   "outputs": [],
   "source": [
    "# query 16\n",
    "start_time = time.time()\n",
    "polars_queries.query_16(data_path, factor)\n",
    "end_time = time.time()\n",
    "polars_results_dict['query_16'] = end_time - start_time"
   ]
  },
  {
   "cell_type": "code",
   "execution_count": 45,
   "id": "1cbafac5-fbe3-4f10-84eb-a0c75479cb43",
   "metadata": {},
   "outputs": [],
   "source": [
    "# query 17\n",
    "start_time = time.time()\n",
    "polars_queries.query_17(data_path, factor)\n",
    "end_time = time.time()\n",
    "polars_results_dict['query_17'] = end_time - start_time"
   ]
  },
  {
   "cell_type": "code",
   "execution_count": 46,
   "id": "522081f0-e02b-4ab5-88f7-1c4a4686a7a1",
   "metadata": {},
   "outputs": [],
   "source": [
    "# query 18\n",
    "start_time = time.time()\n",
    "polars_queries.query_18(data_path, factor)\n",
    "end_time = time.time()\n",
    "polars_results_dict['query_18'] = end_time - start_time"
   ]
  },
  {
   "cell_type": "code",
   "execution_count": 47,
   "id": "1dd3f48b-4d1d-442c-9069-3ff63f8cbfb1",
   "metadata": {},
   "outputs": [],
   "source": [
    "# query 19\n",
    "start_time = time.time()\n",
    "polars_queries.query_19(data_path, factor)\n",
    "end_time = time.time()\n",
    "polars_results_dict['query_19'] = end_time - start_time"
   ]
  },
  {
   "cell_type": "code",
   "execution_count": 48,
   "id": "f1627b30-a04d-4fa1-a4e8-632decb3ddec",
   "metadata": {},
   "outputs": [],
   "source": [
    "# query 20\n",
    "start_time = time.time()\n",
    "polars_queries.query_20(data_path, factor)\n",
    "end_time = time.time()\n",
    "polars_results_dict['query_20'] = end_time - start_time"
   ]
  },
  {
   "cell_type": "code",
   "execution_count": 49,
   "id": "8c4cabee-2bb7-4edf-a539-437f32ea40ca",
   "metadata": {},
   "outputs": [],
   "source": [
    "# query 21\n",
    "start_time = time.time()\n",
    "polars_queries.query_21(data_path, factor)\n",
    "end_time = time.time()\n",
    "polars_results_dict['query_21'] = end_time - start_time"
   ]
  },
  {
   "cell_type": "code",
   "execution_count": 50,
   "id": "b660b522-f067-4a6d-9bb3-99d94278359e",
   "metadata": {},
   "outputs": [],
   "source": [
    "# query 22\n",
    "start_time = time.time()\n",
    "polars_queries.query_22(data_path, factor)\n",
    "end_time = time.time()\n",
    "polars_results_dict['query_22'] = end_time - start_time"
   ]
  },
  {
   "cell_type": "code",
   "execution_count": 51,
   "id": "151de792-d8ac-4452-a92e-574bb5d6390b",
   "metadata": {},
   "outputs": [],
   "source": [
    "results.append(polars_results_dict)"
   ]
  },
  {
   "cell_type": "markdown",
   "id": "763ac0ed-2e61-40c2-a206-851a196c9247",
   "metadata": {},
   "source": [
    "## Pandas"
   ]
  },
  {
   "cell_type": "code",
   "execution_count": 52,
   "id": "d1ec92bb-1308-41fa-8492-57a8b284e234",
   "metadata": {},
   "outputs": [],
   "source": [
    "import pandas_queries"
   ]
  },
  {
   "cell_type": "markdown",
   "id": "e077f791-9041-4d9d-80de-338b4433d8cb",
   "metadata": {},
   "source": [
    "### Scale 1"
   ]
  },
  {
   "cell_type": "code",
   "execution_count": 53,
   "id": "8919a6e4-1204-4916-b3db-d5a6d03087a5",
   "metadata": {},
   "outputs": [],
   "source": [
    "#factor 1\n",
    "factor = 1\n",
    "data_path=f'./data/scale_factor_{factor}'\n",
    "pandas_results_dict = {'library': 'pandas', 'scale': factor}"
   ]
  },
  {
   "cell_type": "code",
   "execution_count": 54,
   "id": "914282f2-97e8-471c-be94-a8cf4540ce04",
   "metadata": {},
   "outputs": [],
   "source": [
    "# query 1\n",
    "start_time = time.time()\n",
    "pandas_queries.query_01(data_path, factor)\n",
    "end_time = time.time()\n",
    "pandas_results_dict['query_01'] = end_time - start_time"
   ]
  },
  {
   "cell_type": "code",
   "execution_count": 55,
   "id": "318ec39e-f2f0-4485-8fe2-a735d2559d5e",
   "metadata": {},
   "outputs": [],
   "source": [
    "# query 2\n",
    "start_time = time.time()\n",
    "pandas_queries.query_02(data_path, factor)\n",
    "end_time = time.time()\n",
    "pandas_results_dict['query_02'] = end_time - start_time"
   ]
  },
  {
   "cell_type": "code",
   "execution_count": 56,
   "id": "e5bad43d-aadb-4660-ae39-2ead7c12eef5",
   "metadata": {},
   "outputs": [],
   "source": [
    "# query 3\n",
    "start_time = time.time()\n",
    "pandas_queries.query_03(data_path, factor)\n",
    "end_time = time.time()\n",
    "pandas_results_dict['query_03'] = end_time - start_time"
   ]
  },
  {
   "cell_type": "code",
   "execution_count": 57,
   "id": "045f9cfb-3ea1-4b74-ad23-de928026ba66",
   "metadata": {},
   "outputs": [],
   "source": [
    "# query 4\n",
    "start_time = time.time()\n",
    "pandas_queries.query_04(data_path, factor)\n",
    "end_time = time.time()\n",
    "pandas_results_dict['query_04'] = end_time - start_time"
   ]
  },
  {
   "cell_type": "code",
   "execution_count": 58,
   "id": "008e98d1-4ad9-47ea-8e73-ca2147d54274",
   "metadata": {},
   "outputs": [],
   "source": [
    "# query 5\n",
    "start_time = time.time()\n",
    "pandas_queries.query_05(data_path, factor)\n",
    "end_time = time.time()\n",
    "pandas_results_dict['query_05'] = end_time - start_time"
   ]
  },
  {
   "cell_type": "code",
   "execution_count": 59,
   "id": "1f4ebc7e-011d-49c2-9659-b28645599cb3",
   "metadata": {},
   "outputs": [],
   "source": [
    "# query 6\n",
    "start_time = time.time()\n",
    "pandas_queries.query_06(data_path, factor)\n",
    "end_time = time.time()\n",
    "pandas_results_dict['query_06'] = end_time - start_time"
   ]
  },
  {
   "cell_type": "code",
   "execution_count": 60,
   "id": "8fd2daec-ea40-465b-b75f-cd593bdb461a",
   "metadata": {},
   "outputs": [],
   "source": [
    "# query 7\n",
    "start_time = time.time()\n",
    "pandas_queries.query_07(data_path, factor)\n",
    "end_time = time.time()\n",
    "pandas_results_dict['query_07'] = end_time - start_time"
   ]
  },
  {
   "cell_type": "code",
   "execution_count": 61,
   "id": "3edfe291-2ac4-43c4-a6f8-c0025a8af2b0",
   "metadata": {},
   "outputs": [],
   "source": [
    "# query 8\n",
    "start_time = time.time()\n",
    "pandas_queries.query_08(data_path, factor)\n",
    "end_time = time.time()\n",
    "pandas_results_dict['query_08'] = end_time - start_time"
   ]
  },
  {
   "cell_type": "code",
   "execution_count": 62,
   "id": "05a1d0e2-0e9a-4b9f-8aee-474b6f0358e5",
   "metadata": {},
   "outputs": [],
   "source": [
    "# query 9\n",
    "start_time = time.time()\n",
    "pandas_queries.query_09(data_path, factor)\n",
    "end_time = time.time()\n",
    "pandas_results_dict['query_09'] = end_time - start_time"
   ]
  },
  {
   "cell_type": "code",
   "execution_count": 63,
   "id": "5e3f36b8-029f-4926-b2a8-4572c7db0a02",
   "metadata": {},
   "outputs": [],
   "source": [
    "# query 10\n",
    "start_time = time.time()\n",
    "pandas_queries.query_10(data_path, factor)\n",
    "end_time = time.time()\n",
    "pandas_results_dict['query_10'] = end_time - start_time"
   ]
  },
  {
   "cell_type": "code",
   "execution_count": 64,
   "id": "37971db8-6723-4a4f-9774-d79797322a8e",
   "metadata": {},
   "outputs": [],
   "source": [
    "# query 11\n",
    "start_time = time.time()\n",
    "pandas_queries.query_11(data_path, factor)\n",
    "end_time = time.time()\n",
    "pandas_results_dict['query_11'] = end_time - start_time"
   ]
  },
  {
   "cell_type": "code",
   "execution_count": 65,
   "id": "b2981d18-cae3-4dfd-a9fb-1c2e797a1805",
   "metadata": {},
   "outputs": [],
   "source": [
    "# query 11\n",
    "start_time = time.time()\n",
    "pandas_queries.query_11(data_path, factor)\n",
    "end_time = time.time()\n",
    "pandas_results_dict['query_11'] = end_time - start_time"
   ]
  },
  {
   "cell_type": "code",
   "execution_count": 66,
   "id": "5c901690-2217-4931-8acc-5dbfc7839a03",
   "metadata": {},
   "outputs": [],
   "source": [
    "# query 11\n",
    "start_time = time.time()\n",
    "pandas_queries.query_11(data_path, factor)\n",
    "end_time = time.time()\n",
    "pandas_results_dict['query_11'] = end_time - start_time"
   ]
  },
  {
   "cell_type": "code",
   "execution_count": 67,
   "id": "6827f09e-e678-42f6-9286-9c42339441b4",
   "metadata": {},
   "outputs": [],
   "source": [
    "# query 12\n",
    "start_time = time.time()\n",
    "pandas_queries.query_12(data_path, factor)\n",
    "end_time = time.time()\n",
    "pandas_results_dict['query_12'] = end_time - start_time"
   ]
  },
  {
   "cell_type": "code",
   "execution_count": 68,
   "id": "2800e015-c9bd-45b5-b609-d433dd501b2e",
   "metadata": {},
   "outputs": [],
   "source": [
    "# query 13\n",
    "start_time = time.time()\n",
    "pandas_queries.query_13(data_path, factor)\n",
    "end_time = time.time()\n",
    "pandas_results_dict['query_13'] = end_time - start_time"
   ]
  },
  {
   "cell_type": "code",
   "execution_count": 69,
   "id": "e7413b84-893f-48fb-9768-c106a6ec02b5",
   "metadata": {},
   "outputs": [],
   "source": [
    "# query 14\n",
    "start_time = time.time()\n",
    "pandas_queries.query_14(data_path, factor)\n",
    "end_time = time.time()\n",
    "pandas_results_dict['query_14'] = end_time - start_time"
   ]
  },
  {
   "cell_type": "code",
   "execution_count": 70,
   "id": "67193924-d7ec-49b1-9700-a3fede4942f0",
   "metadata": {},
   "outputs": [],
   "source": [
    "# query 15\n",
    "start_time = time.time()\n",
    "pandas_queries.query_15(data_path, factor)\n",
    "end_time = time.time()\n",
    "pandas_results_dict['query_15'] = end_time - start_time"
   ]
  },
  {
   "cell_type": "code",
   "execution_count": 71,
   "id": "787deeab-8186-4823-8b9d-3fc96831e36e",
   "metadata": {},
   "outputs": [],
   "source": [
    "# query 16\n",
    "start_time = time.time()\n",
    "pandas_queries.query_16(data_path, factor)\n",
    "end_time = time.time()\n",
    "pandas_results_dict['query_16'] = end_time - start_time"
   ]
  },
  {
   "cell_type": "code",
   "execution_count": 72,
   "id": "6dfb3b6b-8ea1-4208-b6d5-28b92e31fdb4",
   "metadata": {},
   "outputs": [],
   "source": [
    "# query 17\n",
    "start_time = time.time()\n",
    "pandas_queries.query_17(data_path, factor)\n",
    "end_time = time.time()\n",
    "pandas_results_dict['query_17'] = end_time - start_time"
   ]
  },
  {
   "cell_type": "code",
   "execution_count": 73,
   "id": "cb84a767-8c9c-40b8-b903-d5d53652a0bf",
   "metadata": {},
   "outputs": [],
   "source": [
    "# query 18\n",
    "start_time = time.time()\n",
    "pandas_queries.query_18(data_path, factor)\n",
    "end_time = time.time()\n",
    "pandas_results_dict['query_18'] = end_time - start_time"
   ]
  },
  {
   "cell_type": "code",
   "execution_count": 74,
   "id": "81271b67-461e-4f55-9484-1b606a5cf6e9",
   "metadata": {},
   "outputs": [],
   "source": [
    "# query 19\n",
    "start_time = time.time()\n",
    "pandas_queries.query_19(data_path, factor)\n",
    "end_time = time.time()\n",
    "pandas_results_dict['query_19'] = end_time - start_time"
   ]
  },
  {
   "cell_type": "code",
   "execution_count": 75,
   "id": "52c74509-a24b-4135-82d5-733bcd9c7929",
   "metadata": {},
   "outputs": [],
   "source": [
    "# query 20\n",
    "start_time = time.time()\n",
    "pandas_queries.query_20(data_path, factor)\n",
    "end_time = time.time()\n",
    "pandas_results_dict['query_20'] = end_time - start_time"
   ]
  },
  {
   "cell_type": "code",
   "execution_count": 76,
   "id": "c5dd7763-5c6d-4649-9705-bd74e7c1c8b7",
   "metadata": {},
   "outputs": [],
   "source": [
    "# query 21\n",
    "start_time = time.time()\n",
    "pandas_queries.query_21(data_path, factor)\n",
    "end_time = time.time()\n",
    "pandas_results_dict['query_21'] = end_time - start_time"
   ]
  },
  {
   "cell_type": "code",
   "execution_count": 77,
   "id": "7b0fb51b-b356-43e1-b9e1-0196912c2efe",
   "metadata": {},
   "outputs": [],
   "source": [
    "# query 22\n",
    "start_time = time.time()\n",
    "pandas_queries.query_22(data_path, factor)\n",
    "end_time = time.time()\n",
    "pandas_results_dict['query_22'] = end_time - start_time"
   ]
  },
  {
   "cell_type": "code",
   "execution_count": 78,
   "id": "aad7c610-b159-49df-bb30-16b00ab12f87",
   "metadata": {},
   "outputs": [],
   "source": [
    "results.append(pandas_results_dict)"
   ]
  },
  {
   "cell_type": "markdown",
   "id": "c404e8f5-2312-4aab-af38-9e6bb3dbbf0e",
   "metadata": {},
   "source": [
    "## DuckDB"
   ]
  },
  {
   "cell_type": "code",
   "execution_count": 79,
   "id": "c02d0c26-36f3-4f6b-8345-77bd56dc2f11",
   "metadata": {},
   "outputs": [],
   "source": [
    "import duckdb"
   ]
  },
  {
   "cell_type": "markdown",
   "id": "c3b0be0d-38a9-4256-bcf6-fe3a096a24d3",
   "metadata": {},
   "source": [
    "### Scale 1"
   ]
  },
  {
   "cell_type": "code",
   "execution_count": 80,
   "id": "f190f49a-aabb-4315-8411-ff5acd2a9487",
   "metadata": {},
   "outputs": [],
   "source": [
    "scale = 1\n",
    "duckdb_results_dict = {'library': 'duckdb', 'scale': factor}"
   ]
  },
  {
   "cell_type": "code",
   "execution_count": 81,
   "id": "f873c2a5a4cb9268",
   "metadata": {
    "ExecuteTime": {
     "end_time": "2024-11-05T17:43:36.525144Z",
     "start_time": "2024-11-05T17:43:36.520146Z"
    }
   },
   "outputs": [
    {
     "data": {
      "application/vnd.jupyter.widget-view+json": {
       "model_id": "445334a1a2c54887b9e7f102f229e1c6",
       "version_major": 2,
       "version_minor": 0
      },
      "text/plain": [
       "FloatProgress(value=0.0, layout=Layout(width='auto'), style=ProgressStyle(bar_color='black'))"
      ]
     },
     "metadata": {},
     "output_type": "display_data"
    }
   ],
   "source": [
    "conn = duckdb.connect()\n",
    "  \n",
    "conn.sql(f\"CREATE TABLE customer AS FROM read_csv('./data/scale_factor_{scale}/customer.csv')\")\n",
    "conn.sql(f\"CREATE TABLE nation AS FROM read_csv('./data/scale_factor_{scale}/nation.csv')\")\n",
    "conn.sql(f\"CREATE TABLE lineitem AS FROM read_csv('./data/scale_factor_{scale}/lineitem.csv')\")\n",
    "conn.sql(f\"CREATE TABLE orders AS FROM read_csv('./data/scale_factor_{scale}/orders.csv')\")\n",
    "conn.sql(f\"CREATE TABLE supplier AS FROM read_csv('./data/scale_factor_{scale}/supplier.csv')\")\n",
    "conn.sql(f\"CREATE TABLE region AS FROM read_csv('./data/scale_factor_{scale}/region.csv')\")\n",
    "conn.sql(f\"CREATE TABLE part AS FROM read_csv('./data/scale_factor_{scale}/part.csv')\")\n",
    "conn.sql(f\"CREATE TABLE partsupp AS FROM read_csv('./data/scale_factor_{scale}/partsupp.csv')\")\n",
    "for i in range(1,23):\n",
    "    start_time = time.time()\n",
    "    query = None\n",
    "    with open(f'./duckdb_queries/{i}.sql') as f:\n",
    "        query = f.read()\n",
    "    result = conn.sql(query).df()\n",
    "    end_time = time.time()\n",
    "    duckdb_results_dict[f\"query_{i:02d}\"] = end_time - start_time"
   ]
  },
  {
   "cell_type": "code",
   "execution_count": 82,
   "id": "6bab9bf0-16e7-450f-8958-2b1db8c31eea",
   "metadata": {},
   "outputs": [
    {
     "data": {
      "text/plain": [
       "{'library': 'duckdb',\n",
       " 'scale': 1,\n",
       " 'query_01': 0.4549543857574463,\n",
       " 'query_02': 0.06468725204467773,\n",
       " 'query_03': 0.1356794834136963,\n",
       " 'query_04': 0.148665189743042,\n",
       " 'query_05': 0.14001154899597168,\n",
       " 'query_06': 0.05953240394592285,\n",
       " 'query_07': 0.10832095146179199,\n",
       " 'query_08': 0.10847783088684082,\n",
       " 'query_09': 0.3424222469329834,\n",
       " 'query_10': 0.21378254890441895,\n",
       " 'query_11': 0.02506113052368164,\n",
       " 'query_12': 0.185621976852417,\n",
       " 'query_13': 0.22634649276733398,\n",
       " 'query_14': 0.06668329238891602,\n",
       " 'query_15': 0.08187103271484375,\n",
       " 'query_16': 0.05433988571166992,\n",
       " 'query_17': 0.1373767852783203,\n",
       " 'query_18': 0.327390193939209,\n",
       " 'query_19': 0.276170015335083,\n",
       " 'query_20': 0.0980367660522461,\n",
       " 'query_21': 0.3835561275482178,\n",
       " 'query_22': 0.07147026062011719}"
      ]
     },
     "execution_count": 82,
     "metadata": {},
     "output_type": "execute_result"
    }
   ],
   "source": [
    "duckdb_results_dict"
   ]
  },
  {
   "cell_type": "code",
   "execution_count": 83,
   "id": "2bc901e0-406a-40eb-9545-815dd7db0bdb",
   "metadata": {},
   "outputs": [],
   "source": [
    "results.append(duckdb_results_dict)"
   ]
  },
  {
   "cell_type": "code",
   "execution_count": 84,
   "id": "a4221b0c4bc5355a",
   "metadata": {
    "ExecuteTime": {
     "end_time": "2024-11-05T20:58:29.802036Z",
     "start_time": "2024-11-05T20:58:29.796308Z"
    }
   },
   "outputs": [],
   "source": [
    "import pandas as pd\n",
    "df = pd.DataFrame(results)\n",
    "df.to_csv('./data/results_1CPU.csv', index=False)"
   ]
  }
 ],
 "metadata": {
  "kernelspec": {
   "display_name": "Python 3 (ipykernel)",
   "language": "python",
   "name": "python3"
  },
  "language_info": {
   "codemirror_mode": {
    "name": "ipython",
    "version": 3
   },
   "file_extension": ".py",
   "mimetype": "text/x-python",
   "name": "python",
   "nbconvert_exporter": "python",
   "pygments_lexer": "ipython3",
   "version": "3.12.7"
  }
 },
 "nbformat": 4,
 "nbformat_minor": 5
}
